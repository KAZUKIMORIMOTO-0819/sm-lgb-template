{
 "cells": [
  {
   "cell_type": "markdown",
   "id": "39cef5c7-4273-473b-96f9-44d33c33ef93",
   "metadata": {},
   "source": [
    "# モジュールインポート"
   ]
  },
  {
   "cell_type": "code",
   "execution_count": 1,
   "id": "1a627762-3f3a-4351-a388-b1fa3246884c",
   "metadata": {},
   "outputs": [
    {
     "name": "stdout",
     "output_type": "stream",
     "text": [
      "sagemaker.config INFO - Not applying SDK defaults from location: /etc/xdg/sagemaker/config.yaml\n",
      "sagemaker.config INFO - Not applying SDK defaults from location: /home/sagemaker-user/.config/sagemaker/config.yaml\n"
     ]
    }
   ],
   "source": [
    "import pandas as pd\n",
    "import numpy as np\n",
    "import boto3\n",
    "import sagemaker\n",
    "from sagemaker.session import Session\n",
    "from sagemaker.workflow.pipeline import Pipeline\n",
    "from sagemaker.workflow.steps import ProcessingStep, TrainingStep\n",
    "from sagemaker.processing import ScriptProcessor\n",
    "from sagemaker.sklearn.processing import SKLearnProcessor\n",
    "from sagemaker.workflow.pipeline_context import PipelineSession\n",
    "from sagemaker.inputs import TrainingInput\n",
    "from sagemaker.workflow.step_collections import RegisterModel\n",
    "from sagemaker.sklearn.estimator import SKLearn\n",
    "from sagemaker.model_metrics import MetricsSource, ModelMetrics\n",
    "from sagemaker.workflow.parameters import ParameterString\n",
    "\n",
    "from sagemaker.sklearn.processing import SKLearnProcessor\n",
    "from sagemaker.workflow.steps import ProcessingStep\n",
    "from sagemaker.sklearn.estimator import SKLearn\n",
    "from sagemaker.inputs import TrainingInput\n",
    "from sagemaker.processing import ScriptProcessor\n",
    "from sagemaker.workflow.steps import TrainingStep\n",
    "from sagemaker.sklearn.model import SKLearnModel\n",
    "from sagemaker.workflow.functions import Join\n",
    "from sagemaker.workflow.step_collections import RegisterModel\n",
    "\n",
    "from sagemaker.workflow.pipeline import Pipeline\n",
    "\n",
    "\n",
    "import os\n",
    "import logging\n",
    "\n",
    "# ログの設定\n",
    "logging.basicConfig(level=logging.INFO)\n",
    "logger = logging.getLogger(__name__)"
   ]
  },
  {
   "cell_type": "markdown",
   "id": "4c64ba62-ae4d-4e77-a445-015b012e4a6e",
   "metadata": {},
   "source": [
    "# サンプルデータの作成"
   ]
  },
  {
   "cell_type": "code",
   "execution_count": 2,
   "id": "b78c3d6e-232e-40d0-af47-049f82c94881",
   "metadata": {},
   "outputs": [
    {
     "name": "stderr",
     "output_type": "stream",
     "text": [
      "INFO:__main__:サンプルデータを生成しています。\n",
      "INFO:__main__:サンプルデータを data.csv に保存しました。\n"
     ]
    }
   ],
   "source": [
    "from sklearn.datasets import make_classification\n",
    "\n",
    "logger.info(\"サンプルデータを生成しています。\")\n",
    "# サンプルデータの生成\n",
    "X, y = make_classification(n_samples=1000, n_features=20, n_classes=2, random_state=42)\n",
    "data = pd.DataFrame(X)\n",
    "data['label'] = y\n",
    "\n",
    "# データの保存\n",
    "data_file = 'data.csv'\n",
    "data.to_csv(data_file, index=False)\n",
    "logger.info(f\"サンプルデータを {data_file} に保存しました。\")"
   ]
  },
  {
   "cell_type": "markdown",
   "id": "0bf68325-682c-42e7-8c9f-7e5a8351e916",
   "metadata": {},
   "source": [
    "# 事前設定"
   ]
  },
  {
   "cell_type": "markdown",
   "id": "3fea37f8-cee3-454f-913d-8aacbdee9294",
   "metadata": {},
   "source": [
    "## Sagemakerセッションとリソースの設定"
   ]
  },
  {
   "cell_type": "code",
   "execution_count": 3,
   "id": "9fb85998-05e2-47a0-9e85-37477e5c4965",
   "metadata": {},
   "outputs": [
    {
     "name": "stderr",
     "output_type": "stream",
     "text": [
      "INFO:__main__:SageMakerセッションを作成しています。\n"
     ]
    }
   ],
   "source": [
    "# SageMakerセッションの作成\n",
    "logger.info(\"SageMakerセッションを作成しています。\")\n",
    "session = sagemaker.Session()\n",
    "region = session.boto_region_name\n",
    "bucket = session.default_bucket()\n",
    "role = sagemaker.get_execution_role()\n",
    "s3_prefix = 'lightgbm-pipeline'\n",
    "\n",
    "# パイプラインセッションの作成\n",
    "pipeline_session = PipelineSession()"
   ]
  },
  {
   "cell_type": "markdown",
   "id": "be11819b-b61a-489f-ae40-848509455fbb",
   "metadata": {},
   "source": [
    "## サンプルデータをS3にアップロード"
   ]
  },
  {
   "cell_type": "code",
   "execution_count": 4,
   "id": "7526e880-253b-4d29-a567-a669f03212b2",
   "metadata": {},
   "outputs": [
    {
     "name": "stderr",
     "output_type": "stream",
     "text": [
      "INFO:__main__:データをS3にアップロードしています。\n",
      "INFO:__main__:データが s3://sagemaker-ap-northeast-1-706711397653/lightgbm-pipeline/data/data.csv にアップロードされました。\n"
     ]
    }
   ],
   "source": [
    "# データをS3にアップロード\n",
    "logger.info(\"データをS3にアップロードしています。\")\n",
    "s3_uri = session.upload_data(path=data_file, bucket=bucket, key_prefix=f'{s3_prefix}/data')\n",
    "logger.info(f\"データが {s3_uri} にアップロードされました。\")"
   ]
  },
  {
   "cell_type": "markdown",
   "id": "b7a98dc6-5bca-4d27-a7ff-e9510ac05065",
   "metadata": {},
   "source": [
    "# パイプライン定義"
   ]
  },
  {
   "cell_type": "markdown",
   "id": "b51b06f5-6a74-4b50-b374-bd0f24596043",
   "metadata": {},
   "source": [
    "## 前処理STEP"
   ]
  },
  {
   "cell_type": "code",
   "execution_count": 5,
   "id": "28681be5-c411-42dc-9275-75733f12f1ae",
   "metadata": {},
   "outputs": [
    {
     "name": "stderr",
     "output_type": "stream",
     "text": [
      "INFO:__main__:SKLearnProcessorを設定しています。\n",
      "INFO:sagemaker.image_uris:Defaulting to only available Python version: py3\n",
      "INFO:__main__:ProcessingStepを定義しています。\n"
     ]
    }
   ],
   "source": [
    "### SKLearnProcessorを使用して前処理ステップを設定\n",
    "logger.info(\"SKLearnProcessorを設定しています。\")\n",
    "sklearn_processor = SKLearnProcessor(\n",
    "    framework_version='0.23-1',\n",
    "    role=role,\n",
    "    instance_type='ml.m5.xlarge',\n",
    "    instance_count=1,\n",
    "    base_job_name='lightgbm-preprocessing',\n",
    "    sagemaker_session=pipeline_session\n",
    ")\n",
    "\n",
    "### ProessingStepを定義\n",
    "logger.info(\"ProcessingStepを定義しています。\")\n",
    "processing_step = ProcessingStep(\n",
    "    name='PreprocessingStep',\n",
    "    processor=sklearn_processor,\n",
    "    inputs=[\n",
    "        sagemaker.processing.ProcessingInput(\n",
    "            source=s3_uri, # 入力データのS3パスをs3_uriから取得する。\n",
    "            destination='/opt/ml/processing/input/', # Processingジョブ内でのデータのディレクトリを指定。\n",
    "            input_name='input-data' # この入力を\"input_data\"という名前で参照する。\n",
    "        )\n",
    "    ],\n",
    "    \n",
    "    outputs=[\n",
    "        sagemaker.processing.ProcessingOutput(\n",
    "            source='/opt/ml/processing/train',# Processingジョブ内での出力データの場所\n",
    "            destination=f's3://{bucket}/{s3_prefix}/processing/train', # 出力データを保存するS3のパス\n",
    "            output_name='train-data' # 出力データの名前\n",
    "        ),\n",
    "        sagemaker.processing.ProcessingOutput(\n",
    "            source='/opt/ml/processing/test',\n",
    "            destination=f's3://{bucket}/{s3_prefix}/processing/test',\n",
    "            output_name='test-data'\n",
    "        ),\n",
    "    ],\n",
    "    code='preprocessing.py',\n",
    ")"
   ]
  },
  {
   "cell_type": "markdown",
   "id": "0f87ba44-bb8a-4d2b-8077-f5a375764fb1",
   "metadata": {},
   "source": [
    "## 訓練STEP"
   ]
  },
  {
   "cell_type": "code",
   "execution_count": 6,
   "id": "e68ec265-0632-46f7-b944-54b028fa69a9",
   "metadata": {},
   "outputs": [
    {
     "name": "stderr",
     "output_type": "stream",
     "text": [
      "INFO:__main__:SKLearn Estimatorを設定しています。\n",
      "INFO:__main__:TrainingStepを定義しています。\n"
     ]
    }
   ],
   "source": [
    "logger.info(\"SKLearn Estimatorを設定しています。\")\n",
    "estimator = SKLearn(\n",
    "    entry_point='train.py',\n",
    "    role=role,\n",
    "    instance_type='ml.m5.xlarge',\n",
    "    instance_count=1,\n",
    "    framework_version='0.23-1', # 使用するscikite-learnのバージョン指定\n",
    "    py_version='py3',\n",
    "    source_dir='.', # エントリーポイントスクリプトとその依存関係が含まれるディレクトリ\n",
    "    dependencies=['requirements.txt'],\n",
    "    output_path=f's3://{bucket}/{s3_prefix}/training_output', # トレーニングの結果を保存するS3のパス\n",
    "    base_job_name='lightgbm-training', # トレーニングジョブのベース名。ジョブの識別に使用 \n",
    "    sagemaker_session=pipeline_session # Sagemakerのセッションを指定。パイプラインでのジョブの管理に使用。\n",
    ")\n",
    "\n",
    "logger.info(\"TrainingStepを定義しています。\")\n",
    "training_step = TrainingStep(\n",
    "    name='TrainingStep',\n",
    "    estimator=estimator,\n",
    "    inputs={\n",
    "        'train': TrainingInput(\n",
    "            s3_data=processing_step.properties.ProcessingOutputConfig.Outputs['train-data'].S3Output.S3Uri, #前処理ステップの出力であrトレーニングデータのS3パスを指定。\n",
    "            content_type='text/csv'\n",
    "        )\n",
    "    }\n",
    ")"
   ]
  },
  {
   "cell_type": "markdown",
   "id": "6c86a173-5090-4237-b179-1a2c51447d54",
   "metadata": {},
   "source": [
    "## 評価STEP"
   ]
  },
  {
   "cell_type": "code",
   "execution_count": 7,
   "id": "8ae0676d-9ff4-4849-a9cc-64bf25288a83",
   "metadata": {
    "jupyter": {
     "source_hidden": true
    }
   },
   "outputs": [],
   "source": [
    "# logger.info(\"評価用のScriptProcessorを設定しています。\")\n",
    "# evaluation_processor = ScriptProcessor(\n",
    "#     image_uri=estimator.image_uri,\n",
    "#     command=['python3'],\n",
    "#     role=role,\n",
    "#     instance_count=1,\n",
    "#     instance_type='ml.m5.xlarge',\n",
    "#     sagemaker_session=pipeline_session\n",
    "# )\n",
    "\n",
    "# logger.info(\"EvaluationStepを定義しています。\")\n",
    "# evaluation_step = ProcessingStep(\n",
    "#     name='EvaluationStep',\n",
    "#     processor=evaluation_processor,\n",
    "#     inputs=[\n",
    "#         sagemaker.processing.ProcessingInput(\n",
    "#             source=training_step.properties.ModelArtifacts.S3ModelArtifacts,\n",
    "#             destination='/opt/ml/processing/model'\n",
    "#         ),\n",
    "#         sagemaker.processing.ProcessingInput(\n",
    "#             source=processing_step.properties.ProcessingOutputConfig.Outputs['test-data'].S3Output.S3Uri,\n",
    "#             destination='/opt/ml/processing/test'\n",
    "#         )\n",
    "#     ],\n",
    "#     outputs=[\n",
    "#         sagemaker.processing.ProcessingOutput(\n",
    "#             output_name='evaluation',\n",
    "#             source='/opt/ml/processing/evaluation',\n",
    "#             destination=f's3://{bucket}/{s3_prefix}/evaluation'\n",
    "#         )\n",
    "#     ],\n",
    "#     code='evaluate.py'\n",
    "# )\n"
   ]
  },
  {
   "cell_type": "code",
   "execution_count": 8,
   "id": "0d3b65ca-cc3c-4f0f-b76d-3b9f89f0ce8c",
   "metadata": {},
   "outputs": [
    {
     "name": "stderr",
     "output_type": "stream",
     "text": [
      "INFO:__main__:評価用のScriptProcessorを設定しています。\n",
      "INFO:__main__:EvaluationStepを定義しています。\n"
     ]
    }
   ],
   "source": [
    "logger.info(\"評価用のScriptProcessorを設定しています。\")\n",
    "evaluation_processor = ScriptProcessor(\n",
    "    image_uri=estimator.image_uri,\n",
    "    command=['python3'],\n",
    "    role=role,\n",
    "    instance_count=1,\n",
    "    instance_type='ml.m5.xlarge',\n",
    "    base_job_name='lightgbm-evaluation',\n",
    "    sagemaker_session=pipeline_session\n",
    ")\n",
    "\n",
    "logger.info(\"EvaluationStepを定義しています。\")\n",
    "evaluation_step = ProcessingStep(\n",
    "    name='EvaluationStep',\n",
    "    processor=evaluation_processor,\n",
    "    code='evaluate.py',\n",
    "    inputs=[\n",
    "        sagemaker.processing.ProcessingInput(\n",
    "            source=training_step.properties.ModelArtifacts.S3ModelArtifacts,\n",
    "            destination='/opt/ml/processing/model'\n",
    "        ),\n",
    "        sagemaker.processing.ProcessingInput(\n",
    "            source=processing_step.properties.ProcessingOutputConfig.Outputs['test-data'].S3Output.S3Uri,\n",
    "            destination='/opt/ml/processing/test'\n",
    "        ),\n",
    "        sagemaker.processing.ProcessingInput(\n",
    "            source='requirements.txt',\n",
    "            destination='/opt/ml/processing/input',  # ディレクトリを指定\n",
    "            input_name='requirements'\n",
    "        )\n",
    "    ],\n",
    "    outputs=[\n",
    "        sagemaker.processing.ProcessingOutput(\n",
    "            output_name='evaluation',\n",
    "            source='/opt/ml/processing/evaluation',\n",
    "            destination=f's3://{bucket}/{s3_prefix}/evaluation'\n",
    "        )\n",
    "    ],\n",
    "    job_arguments=['--model-dir', '/opt/ml/processing/model',\n",
    "                   '--test-dir', '/opt/ml/processing/test',\n",
    "                   '--output-dir', '/opt/ml/processing/evaluation']\n",
    ")"
   ]
  },
  {
   "cell_type": "markdown",
   "id": "b2fd2077-250d-482b-87fa-10201a8d9173",
   "metadata": {},
   "source": [
    "## モデル登録STEP"
   ]
  },
  {
   "cell_type": "code",
   "execution_count": 10,
   "id": "118cd8d2-2a03-46cd-8068-2e12db89f680",
   "metadata": {},
   "outputs": [
    {
     "name": "stderr",
     "output_type": "stream",
     "text": [
      "INFO:__main__:モデルメトリクスを設定しています。\n",
      "INFO:__main__:SKLearnModelを作成しています。\n",
      "INFO:__main__:RegisterModelステップを定義しています。\n"
     ]
    }
   ],
   "source": [
    "logger.info(\"モデルメトリクスを設定しています。\")\n",
    "model_metrics = ModelMetrics(\n",
    "    model_statistics=MetricsSource(\n",
    "        s3_uri=Join(on='/', values=[\n",
    "            evaluation_step.properties.ProcessingOutputConfig.Outputs['evaluation'].S3Output.S3Uri,\n",
    "            'evaluation.json'\n",
    "        ]),\n",
    "        content_type='application/json'\n",
    "    )\n",
    ")\n",
    "\n",
    "logger.info(\"SKLearnModelを作成しています。\")\n",
    "model = SKLearnModel(\n",
    "    model_data=training_step.properties.ModelArtifacts.S3ModelArtifacts,\n",
    "    role=role,\n",
    "    entry_point='inference.py',\n",
    "    source_dir='.',\n",
    "    framework_version='0.23-1',\n",
    "    py_version='py3',\n",
    "    sagemaker_session=pipeline_session,\n",
    "    env={\n",
    "        'SAGEMAKER_REQUIREMENTS': 'requirements.txt'  # ここでrequirements.txtを指定\n",
    "    }\n",
    ")\n",
    "\n",
    "logger.info(\"RegisterModelステップを定義しています。\")\n",
    "register_step = RegisterModel(\n",
    "    name='ModelRegistration',\n",
    "    estimator=estimator,\n",
    "    model_data=training_step.properties.ModelArtifacts.S3ModelArtifacts,\n",
    "    content_types=['text/csv'],\n",
    "    response_types=['text/csv'],\n",
    "    inference_instances=['ml.t2.medium', 'ml.m5.xlarge'],\n",
    "    transform_instances=['ml.m5.xlarge'],\n",
    "    model_package_group_name='LightGBMPackageGroup',\n",
    "    model_metrics=model_metrics,\n",
    "    approval_status='Approved',\n",
    ")"
   ]
  },
  {
   "cell_type": "markdown",
   "id": "35436b26-a66e-409b-b88d-0fbe54e0721d",
   "metadata": {},
   "source": [
    "## pipelineの定義"
   ]
  },
  {
   "cell_type": "code",
   "execution_count": 11,
   "id": "b797e0f3-de90-415b-97bc-0a10ed936d0a",
   "metadata": {},
   "outputs": [
    {
     "name": "stderr",
     "output_type": "stream",
     "text": [
      "INFO:__main__:パイプラインを定義しています。\n",
      "INFO:__main__:パイプラインをアップサートしています。\n",
      "WARNING:sagemaker.workflow.utilities:Popping out 'ProcessingJobName' from the pipeline definition by default since it will be overridden at pipeline execution time. Please utilize the PipelineDefinitionConfig to persist this field in the pipeline definition if desired.\n",
      "WARNING:sagemaker.workflow.utilities:Popping out 'TrainingJobName' from the pipeline definition by default since it will be overridden at pipeline execution time. Please utilize the PipelineDefinitionConfig to persist this field in the pipeline definition if desired.\n",
      "WARNING:sagemaker.workflow.utilities:Popping out 'ProcessingJobName' from the pipeline definition by default since it will be overridden at pipeline execution time. Please utilize the PipelineDefinitionConfig to persist this field in the pipeline definition if desired.\n",
      "WARNING:sagemaker.estimator:No finished training job found associated with this estimator. Please make sure this estimator is only used for building workflow config\n",
      "WARNING:sagemaker.workflow._utils:Popping out 'CertifyForMarketplace' from the pipeline definition since it will be overridden in pipeline execution time.\n",
      "WARNING:sagemaker.workflow.utilities:Popping out 'ModelPackageName' from the pipeline definition by default since it will be overridden at pipeline execution time. Please utilize the PipelineDefinitionConfig to persist this field in the pipeline definition if desired.\n",
      "WARNING:sagemaker.workflow.utilities:Popping out 'ProcessingJobName' from the pipeline definition by default since it will be overridden at pipeline execution time. Please utilize the PipelineDefinitionConfig to persist this field in the pipeline definition if desired.\n",
      "WARNING:sagemaker.workflow.utilities:Popping out 'TrainingJobName' from the pipeline definition by default since it will be overridden at pipeline execution time. Please utilize the PipelineDefinitionConfig to persist this field in the pipeline definition if desired.\n",
      "WARNING:sagemaker.workflow.utilities:Popping out 'ProcessingJobName' from the pipeline definition by default since it will be overridden at pipeline execution time. Please utilize the PipelineDefinitionConfig to persist this field in the pipeline definition if desired.\n",
      "WARNING:sagemaker.estimator:No finished training job found associated with this estimator. Please make sure this estimator is only used for building workflow config\n",
      "WARNING:sagemaker.workflow._utils:Popping out 'CertifyForMarketplace' from the pipeline definition since it will be overridden in pipeline execution time.\n",
      "WARNING:sagemaker.workflow.utilities:Popping out 'ModelPackageName' from the pipeline definition by default since it will be overridden at pipeline execution time. Please utilize the PipelineDefinitionConfig to persist this field in the pipeline definition if desired.\n",
      "INFO:__main__:パイプラインを実行しています。\n"
     ]
    }
   ],
   "source": [
    "logger.info(\"パイプラインを定義しています。\")\n",
    "pipeline = Pipeline(\n",
    "    name='LightGBMPipeline',\n",
    "    parameters=[],\n",
    "    steps=[processing_step,\n",
    "           training_step,\n",
    "           evaluation_step,\n",
    "           register_step\n",
    "          ],\n",
    "    sagemaker_session=pipeline_session\n",
    ")\n",
    "\n",
    "### pipelineの実行\n",
    "logger.info(\"パイプラインをアップサートしています。\")\n",
    "pipeline.upsert(role_arn=role)\n",
    "\n",
    "logger.info(\"パイプラインを実行しています。\")\n",
    "execution = pipeline.start()"
   ]
  },
  {
   "cell_type": "code",
   "execution_count": null,
   "id": "a6308503-3877-45ed-bfc0-4987d09cf5e2",
   "metadata": {},
   "outputs": [],
   "source": []
  },
  {
   "cell_type": "markdown",
   "id": "53e67453-46ee-4bee-9674-14b32c13cb85",
   "metadata": {},
   "source": [
    "# Model動作テスト"
   ]
  },
  {
   "cell_type": "markdown",
   "id": "b8092f82-f25d-4aec-b6e7-a0f4610acb2d",
   "metadata": {},
   "source": [
    "## モデルパッケージの承認\n",
    "モデルレジストリに登録されたモデルパッケージの承認ステータスがPendingManualApprovalになっている場合、モデルをデプロイする前に承認する必要があります。\n",
    "\n",
    "方法：\n",
    "\n",
    "AWS SageMakerコンソールにアクセス：\n",
    "\n",
    "AWSマネジメントコンソールで、SageMakerサービスを選択します。\n",
    "モデルパッケージグループを選択：\n",
    "\n",
    "左側のナビゲーションペインで「モデルレジストリ」をクリックします。\n",
    "あなたが作成したLightGBMPackageGroupを選択します。\n",
    "モデルパッケージを承認：\n",
    "\n",
    "承認待ちのモデルパッケージを選択します。\n",
    "「アクション」ボタンをクリックし、「承認」を選択します。\n",
    "承認ステータスをApprovedに変更します。"
   ]
  },
  {
   "cell_type": "markdown",
   "id": "5c8be1cb-cef3-41e7-9e92-3d322462bebb",
   "metadata": {},
   "source": [
    "## モデルパッケージをデプロイ\n",
    "- Python SDKを使用して、モデルパッケージをリアルタイム推論エンドポイントとしてデプロイします。"
   ]
  },
  {
   "cell_type": "code",
   "execution_count": 23,
   "id": "429759ff-8d91-443e-9d83-7e92917a267b",
   "metadata": {},
   "outputs": [
    {
     "name": "stdout",
     "output_type": "stream",
     "text": [
      "モデルパッケージのARN: arn:aws:sagemaker:ap-northeast-1:706711397653:model-package/LightGBMPackageGroup/4\n"
     ]
    },
    {
     "ename": "FileNotFoundError",
     "evalue": "[Errno 2] No such file or directory: '/opt/conda/lib/python3.10/site-packages/sagemaker/image_uri_config/lightgbm.json'",
     "output_type": "error",
     "traceback": [
      "\u001b[0;31m---------------------------------------------------------------------------\u001b[0m",
      "\u001b[0;31mFileNotFoundError\u001b[0m                         Traceback (most recent call last)",
      "Cell \u001b[0;32mIn[23], line 27\u001b[0m\n\u001b[1;32m     24\u001b[0m \u001b[38;5;28mprint\u001b[39m(\u001b[38;5;124mf\u001b[39m\u001b[38;5;124m\"\u001b[39m\u001b[38;5;124mモデルパッケージのARN: \u001b[39m\u001b[38;5;132;01m{\u001b[39;00mmodel_package_arn\u001b[38;5;132;01m}\u001b[39;00m\u001b[38;5;124m\"\u001b[39m)\n\u001b[1;32m     26\u001b[0m \u001b[38;5;66;03m# モデルパッケージを使用してエンドポイントをデプロイ\u001b[39;00m\n\u001b[0;32m---> 27\u001b[0m container \u001b[38;5;241m=\u001b[39m \u001b[43mimage_uris\u001b[49m\u001b[38;5;241;43m.\u001b[39;49m\u001b[43mretrieve\u001b[49m\u001b[43m(\u001b[49m\u001b[43mframework\u001b[49m\u001b[38;5;241;43m=\u001b[39;49m\u001b[38;5;124;43m'\u001b[39;49m\u001b[38;5;124;43mlightgbm\u001b[39;49m\u001b[38;5;124;43m'\u001b[39;49m\u001b[43m,\u001b[49m\u001b[43m \u001b[49m\u001b[43mregion\u001b[49m\u001b[38;5;241;43m=\u001b[39;49m\u001b[43msession\u001b[49m\u001b[38;5;241;43m.\u001b[39;49m\u001b[43mboto_region_name\u001b[49m\u001b[43m)\u001b[49m\n\u001b[1;32m     29\u001b[0m model \u001b[38;5;241m=\u001b[39m ModelPackage(\n\u001b[1;32m     30\u001b[0m     role\u001b[38;5;241m=\u001b[39mrole,\n\u001b[1;32m     31\u001b[0m     model_package_arn\u001b[38;5;241m=\u001b[39mmodel_package_arn,\n\u001b[1;32m     32\u001b[0m     sagemaker_session\u001b[38;5;241m=\u001b[39msession,\n\u001b[1;32m     33\u001b[0m     image_uri\u001b[38;5;241m=\u001b[39mcontainer,\n\u001b[1;32m     34\u001b[0m )\n\u001b[1;32m     36\u001b[0m \u001b[38;5;66;03m# predictor = model.deploy(\u001b[39;00m\n\u001b[1;32m     37\u001b[0m \u001b[38;5;66;03m#     initial_instance_count=1,\u001b[39;00m\n\u001b[1;32m     38\u001b[0m \u001b[38;5;66;03m#     instance_type='ml.m5.xlarge',\u001b[39;00m\n\u001b[1;32m     39\u001b[0m \u001b[38;5;66;03m#     endpoint_name='lightgbm-endpoint-ver4'\u001b[39;00m\n\u001b[1;32m     40\u001b[0m \u001b[38;5;66;03m# )\u001b[39;00m\n",
      "File \u001b[0;32m/opt/conda/lib/python3.10/site-packages/sagemaker/workflow/utilities.py:424\u001b[0m, in \u001b[0;36moverride_pipeline_parameter_var.<locals>.wrapper\u001b[0;34m(*args, **kwargs)\u001b[0m\n\u001b[1;32m    422\u001b[0m         logger\u001b[38;5;241m.\u001b[39mwarning(warning_msg_template, arg_name, func_name, \u001b[38;5;28mtype\u001b[39m(value))\n\u001b[1;32m    423\u001b[0m         kwargs[arg_name] \u001b[38;5;241m=\u001b[39m value\u001b[38;5;241m.\u001b[39mdefault_value\n\u001b[0;32m--> 424\u001b[0m \u001b[38;5;28;01mreturn\u001b[39;00m \u001b[43mfunc\u001b[49m\u001b[43m(\u001b[49m\u001b[38;5;241;43m*\u001b[39;49m\u001b[43margs\u001b[49m\u001b[43m,\u001b[49m\u001b[43m \u001b[49m\u001b[38;5;241;43m*\u001b[39;49m\u001b[38;5;241;43m*\u001b[39;49m\u001b[43mkwargs\u001b[49m\u001b[43m)\u001b[49m\n",
      "File \u001b[0;32m/opt/conda/lib/python3.10/site-packages/sagemaker/image_uris.py:192\u001b[0m, in \u001b[0;36mretrieve\u001b[0;34m(framework, region, version, py_version, instance_type, accelerator_type, image_scope, container_version, distribution, base_framework_version, training_compiler_config, model_id, model_version, hub_arn, tolerate_vulnerable_model, tolerate_deprecated_model, sdk_version, inference_tool, serverless_inference_config, sagemaker_session, config_name, model_type)\u001b[0m\n\u001b[1;32m    190\u001b[0m     final_image_scope \u001b[38;5;241m=\u001b[39m _get_final_image_scope(framework, instance_type, image_scope)\n\u001b[1;32m    191\u001b[0m     _validate_for_suppported_frameworks_and_instance_type(framework, instance_type)\n\u001b[0;32m--> 192\u001b[0m     config \u001b[38;5;241m=\u001b[39m \u001b[43m_config_for_framework_and_scope\u001b[49m\u001b[43m(\u001b[49m\u001b[43m_framework\u001b[49m\u001b[43m,\u001b[49m\u001b[43m \u001b[49m\u001b[43mfinal_image_scope\u001b[49m\u001b[43m,\u001b[49m\u001b[43m \u001b[49m\u001b[43maccelerator_type\u001b[49m\u001b[43m)\u001b[49m\n\u001b[1;32m    194\u001b[0m original_version \u001b[38;5;241m=\u001b[39m version\n\u001b[1;32m    195\u001b[0m version \u001b[38;5;241m=\u001b[39m _validate_version_and_set_if_needed(version, config, framework)\n",
      "File \u001b[0;32m/opt/conda/lib/python3.10/site-packages/sagemaker/image_uris.py:363\u001b[0m, in \u001b[0;36m_config_for_framework_and_scope\u001b[0;34m(framework, image_scope, accelerator_type)\u001b[0m\n\u001b[1;32m    361\u001b[0m \u001b[38;5;28;01mdef\u001b[39;00m \u001b[38;5;21m_config_for_framework_and_scope\u001b[39m(framework, image_scope, accelerator_type\u001b[38;5;241m=\u001b[39m\u001b[38;5;28;01mNone\u001b[39;00m):\n\u001b[1;32m    362\u001b[0m \u001b[38;5;250m    \u001b[39m\u001b[38;5;124;03m\"\"\"Loads the JSON config for the given framework and image scope.\"\"\"\u001b[39;00m\n\u001b[0;32m--> 363\u001b[0m     config \u001b[38;5;241m=\u001b[39m \u001b[43mconfig_for_framework\u001b[49m\u001b[43m(\u001b[49m\u001b[43mframework\u001b[49m\u001b[43m)\u001b[49m\n\u001b[1;32m    365\u001b[0m     \u001b[38;5;28;01mif\u001b[39;00m accelerator_type:\n\u001b[1;32m    366\u001b[0m         _validate_accelerator_type(accelerator_type)\n",
      "File \u001b[0;32m/opt/conda/lib/python3.10/site-packages/sagemaker/image_uris.py:432\u001b[0m, in \u001b[0;36mconfig_for_framework\u001b[0;34m(framework)\u001b[0m\n\u001b[1;32m    430\u001b[0m \u001b[38;5;250m\u001b[39m\u001b[38;5;124;03m\"\"\"Loads the JSON config for the given framework.\"\"\"\u001b[39;00m\n\u001b[1;32m    431\u001b[0m fname \u001b[38;5;241m=\u001b[39m os\u001b[38;5;241m.\u001b[39mpath\u001b[38;5;241m.\u001b[39mjoin(os\u001b[38;5;241m.\u001b[39mpath\u001b[38;5;241m.\u001b[39mdirname(\u001b[38;5;18m__file__\u001b[39m), \u001b[38;5;124m\"\u001b[39m\u001b[38;5;124mimage_uri_config\u001b[39m\u001b[38;5;124m\"\u001b[39m, \u001b[38;5;124m\"\u001b[39m\u001b[38;5;132;01m{}\u001b[39;00m\u001b[38;5;124m.json\u001b[39m\u001b[38;5;124m\"\u001b[39m\u001b[38;5;241m.\u001b[39mformat(framework))\n\u001b[0;32m--> 432\u001b[0m \u001b[38;5;28;01mwith\u001b[39;00m \u001b[38;5;28;43mopen\u001b[39;49m\u001b[43m(\u001b[49m\u001b[43mfname\u001b[49m\u001b[43m)\u001b[49m \u001b[38;5;28;01mas\u001b[39;00m f:\n\u001b[1;32m    433\u001b[0m     \u001b[38;5;28;01mreturn\u001b[39;00m json\u001b[38;5;241m.\u001b[39mload(f)\n",
      "\u001b[0;31mFileNotFoundError\u001b[0m: [Errno 2] No such file or directory: '/opt/conda/lib/python3.10/site-packages/sagemaker/image_uri_config/lightgbm.json'"
     ]
    }
   ],
   "source": [
    "import boto3\n",
    "import sagemaker\n",
    "from sagemaker import ModelPackage\n",
    "from sagemaker.predictor import Predictor\n",
    "from sagemaker.serializers import CSVSerializer\n",
    "from sagemaker.deserializers import JSONDeserializer\n",
    "from sagemaker import image_uris\n",
    "\n",
    "# # セッションとロールの設定\n",
    "# session = sagemaker.Session()\n",
    "# region = session.boto_region_name\n",
    "# sagemaker_client = boto3.client('sagemaker', region_name=region)\n",
    "# role = sagemaker.get_execution_role()\n",
    "\n",
    "# モデルパッケージのARNを取得\n",
    "model_package_group_name = 'LightGBMPackageGroup'\n",
    "response = sagemaker_client.list_model_packages(\n",
    "    ModelPackageGroupName=model_package_group_name,\n",
    "    MaxResults=1,\n",
    "    SortBy='CreationTime',\n",
    "    SortOrder='Descending'\n",
    ")\n",
    "model_package_arn = response['ModelPackageSummaryList'][0]['ModelPackageArn']\n",
    "print(f\"モデルパッケージのARN: {model_package_arn}\")\n",
    "\n",
    "# モデルパッケージを使用してエンドポイントをデプロイ\n",
    "container = image_uris.retrieve(framework='lightgbm', region=session.boto_region_name)\n",
    "\n",
    "model = ModelPackage(\n",
    "    role=role,\n",
    "    model_package_arn=model_package_arn,\n",
    "    sagemaker_session=session,\n",
    "    image_uri=container,\n",
    ")\n",
    "\n",
    "predictor = model.deploy(\n",
    "    initial_instance_count=1,\n",
    "    instance_type='ml.m5.xlarge',\n",
    "    endpoint_name='lightgbm-endpoint-ver4'\n",
    ")"
   ]
  },
  {
   "cell_type": "code",
   "execution_count": 21,
   "id": "69afff08-80e8-4ef9-83b9-05cb22e3dcfb",
   "metadata": {},
   "outputs": [
    {
     "data": {
      "text/plain": [
       "'Completed'"
      ]
     },
     "execution_count": 21,
     "metadata": {},
     "output_type": "execute_result"
    }
   ],
   "source": [
    "status"
   ]
  },
  {
   "cell_type": "markdown",
   "id": "505c3257-4cb4-49e8-b743-b4b1235c5f58",
   "metadata": {},
   "source": [
    "## エンドポイントを利用して推論"
   ]
  },
  {
   "cell_type": "code",
   "execution_count": null,
   "id": "8096ec5d-5e73-445d-8c23-174d05a516ca",
   "metadata": {},
   "outputs": [],
   "source": [
    "# 推論に使用するデータの準備\n",
    "import pandas as pd\n",
    "\n",
    "# テストデータの取得\n",
    "test_s3_uri = f's3://{bucket}/{s3_prefix}/processing/test/test.csv'\n",
    "test_data = pd.read_csv(test_s3_uri)\n",
    "X_test = test_data.drop('label', axis=1)\n",
    "\n",
    "# テストデータの一部を取得\n",
    "sample_data = X_test.head(5)\n",
    "\n",
    "# 予測の実行\n",
    "predictor.serializer = CSVSerializer()\n",
    "predictor.deserializer = JSONDeserializer()\n",
    "\n",
    "response = predictor.predict(sample_data.to_csv(header=False, index=False))\n",
    "print(f\"予測結果: {response}\")"
   ]
  },
  {
   "cell_type": "code",
   "execution_count": null,
   "id": "082d8f4b-6cbe-4a40-8734-922ef3c8f28b",
   "metadata": {},
   "outputs": [],
   "source": []
  }
 ],
 "metadata": {
  "kernelspec": {
   "display_name": "Python 3 (ipykernel)",
   "language": "python",
   "name": "python3"
  },
  "language_info": {
   "codemirror_mode": {
    "name": "ipython",
    "version": 3
   },
   "file_extension": ".py",
   "mimetype": "text/x-python",
   "name": "python",
   "nbconvert_exporter": "python",
   "pygments_lexer": "ipython3",
   "version": "3.10.14"
  }
 },
 "nbformat": 4,
 "nbformat_minor": 5
}
