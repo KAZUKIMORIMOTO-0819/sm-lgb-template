{
 "cells": [
  {
   "cell_type": "markdown",
   "id": "da0cb00d-e406-4222-8d31-60868fc6262a",
   "metadata": {},
   "source": [
    "# モジュールインポート"
   ]
  },
  {
   "cell_type": "code",
   "execution_count": 1,
   "id": "54e07831-dcb9-4d92-bfc9-455e3ad35eb1",
   "metadata": {
    "editable": true,
    "slideshow": {
     "slide_type": ""
    },
    "tags": []
   },
   "outputs": [
    {
     "name": "stdout",
     "output_type": "stream",
     "text": [
      "sagemaker.config INFO - Not applying SDK defaults from location: /etc/xdg/sagemaker/config.yaml\n",
      "sagemaker.config INFO - Not applying SDK defaults from location: /home/sagemaker-user/.config/sagemaker/config.yaml\n"
     ]
    }
   ],
   "source": [
    "import boto3\n",
    "import sagemaker\n",
    "from sagemaker import get_execution_role\n",
    "from sagemaker.session import Session\n",
    "from sagemaker.workflow.pipeline_context import PipelineSession\n",
    "from sagemaker.workflow.parameters import ParameterString\n",
    "from sagemaker.workflow.steps import ProcessingStep, TrainingStep\n",
    "from sagemaker.workflow.pipeline import Pipeline\n",
    "from sagemaker.processing import ScriptProcessor, ProcessingInput, ProcessingOutput\n",
    "from sagemaker.sklearn.estimator import SKLearn\n",
    "from sagemaker.workflow.condition_step import ConditionStep\n",
    "from sagemaker.workflow.conditions import ConditionGreaterThanOrEqualTo\n",
    "from sagemaker.workflow.functions import JsonGet\n",
    "from sagemaker.workflow.properties import PropertyFile\n",
    "import os\n",
    "import pandas as pd"
   ]
  },
  {
   "cell_type": "markdown",
   "id": "ab923a5e-967d-4e2c-a5cc-00e30ca13f86",
   "metadata": {},
   "source": [
    "# 各種設定"
   ]
  },
  {
   "cell_type": "markdown",
   "id": "edbbdf07-ee32-42de-b2fa-aaeef4e12c3c",
   "metadata": {
    "editable": true,
    "slideshow": {
     "slide_type": ""
    },
    "tags": []
   },
   "source": [
    "## セッションとロールの設定"
   ]
  },
  {
   "cell_type": "code",
   "execution_count": 2,
   "id": "c4601874-8c76-478c-a6b5-ef8a3a02cca2",
   "metadata": {},
   "outputs": [],
   "source": [
    "# セッションとロールの設定\n",
    "sagemaker_session = sagemaker.session.Session()\n",
    "role = get_execution_role()\n",
    "region = sagemaker_session.boto_region_name\n",
    "default_bucket = sagemaker_session.default_bucket()\n",
    "\n",
    "# パイプラインセッションの作成\n",
    "pipeline_session = PipelineSession()"
   ]
  },
  {
   "cell_type": "markdown",
   "id": "e3976286-f20b-4ce8-95ee-2af3f0f02d70",
   "metadata": {
    "editable": true,
    "slideshow": {
     "slide_type": ""
    },
    "tags": []
   },
   "source": [
    "## パラメータの定義"
   ]
  },
  {
   "cell_type": "code",
   "execution_count": 3,
   "id": "8b1f7eb4-15d3-43f9-9412-f0dfaab8eac3",
   "metadata": {
    "editable": true,
    "slideshow": {
     "slide_type": ""
    },
    "tags": []
   },
   "outputs": [],
   "source": [
    "# パラメータの定義\n",
    "processing_instance_type = ParameterString(name=\"ProcessingInstanceType\", default_value=\"ml.m5.xlarge\")\n",
    "training_instance_type = ParameterString(name=\"TrainingInstanceType\", default_value=\"ml.m5.xlarge\")\n",
    "model_approval_status = ParameterString(name=\"ModelApprovalStatus\", default_value=\"PendingManualApproval\")"
   ]
  },
  {
   "cell_type": "markdown",
   "id": "b197b482-5ab6-4d29-aeb9-119b77176cd4",
   "metadata": {},
   "source": [
    "## S3パスの設定"
   ]
  },
  {
   "cell_type": "code",
   "execution_count": 4,
   "id": "dd942c2b-07bc-47b6-bbcf-6720f881bc2e",
   "metadata": {
    "editable": true,
    "slideshow": {
     "slide_type": ""
    },
    "tags": []
   },
   "outputs": [],
   "source": [
    "# データのS3パスの定義\n",
    "input_data_uri = f's3://{default_bucket}/lightgbm-pipeline/input/data.csv'\n",
    "output_data_uri = f's3://{default_bucket}/lightgbm-pipeline/output'"
   ]
  },
  {
   "cell_type": "markdown",
   "id": "f80e184d-d82b-4be6-b056-4374161ed9b6",
   "metadata": {},
   "source": [
    "## サンプルデータの作成"
   ]
  },
  {
   "cell_type": "code",
   "execution_count": 5,
   "id": "dfcede8b-25f0-4662-8ad1-5f22622cac8d",
   "metadata": {
    "editable": true,
    "slideshow": {
     "slide_type": ""
    },
    "tags": []
   },
   "outputs": [
    {
     "data": {
      "text/plain": [
       "'s3://sagemaker-ap-northeast-1-706711397653/lightgbm-pipeline/input/data.csv'"
      ]
     },
     "execution_count": 5,
     "metadata": {},
     "output_type": "execute_result"
    }
   ],
   "source": [
    "# サンプルデータの作成とS3へのアップロード\n",
    "from sklearn.datasets import make_classification\n",
    "\n",
    "X, y = make_classification(\n",
    "    n_samples=1000, n_features=20, n_informative=15, n_redundant=5, n_classes=2, random_state=42\n",
    ")\n",
    "df = pd.DataFrame(X)\n",
    "df['target'] = y\n",
    "\n",
    "# データをS3にアップロード\n",
    "os.makedirs('data', exist_ok=True)\n",
    "df.to_csv('data/data.csv', index=False)\n",
    "sagemaker_session.upload_data(path='data/data.csv', bucket=default_bucket, key_prefix='lightgbm-pipeline/input')"
   ]
  },
  {
   "cell_type": "markdown",
   "id": "6274b03a-b587-4486-a3dc-41c39068172b",
   "metadata": {},
   "source": [
    "# パイプラインの作成"
   ]
  },
  {
   "cell_type": "markdown",
   "id": "faf0258c-3b38-4705-8b90-eb18721e74b6",
   "metadata": {},
   "source": [
    "## Preprocess"
   ]
  },
  {
   "cell_type": "code",
   "execution_count": 29,
   "id": "857c6c3e-60ce-43d9-8d57-1f8ce988c49d",
   "metadata": {
    "editable": true,
    "slideshow": {
     "slide_type": ""
    },
    "tags": []
   },
   "outputs": [
    {
     "name": "stderr",
     "output_type": "stream",
     "text": [
      "INFO:sagemaker.image_uris:Defaulting to only available Python version: py3\n",
      "INFO:sagemaker.image_uris:Defaulting to only supported image scope: cpu.\n"
     ]
    }
   ],
   "source": [
    "# 前処理ステップの定義\n",
    "script_processor = ScriptProcessor(\n",
    "    image_uri=sagemaker.image_uris.retrieve(framework='sklearn', \n",
    "                                            region=region, \n",
    "                                            version='0.23-1'),\n",
    "    command=['python3'],\n",
    "    instance_type=processing_instance_type,\n",
    "    instance_count=1,\n",
    "    base_job_name='lightgbm-preprocessing',\n",
    "    role=role,\n",
    "    sagemaker_session=pipeline_session  # PipelineSessionを使用\n",
    ")\n",
    "\n",
    "processing_step = ProcessingStep(\n",
    "    name='Preprocessing',\n",
    "    processor=script_processor,\n",
    "    inputs=[],\n",
    "    outputs=[\n",
    "        ProcessingOutput(\n",
    "            output_name='train_data',\n",
    "            source='/opt/ml/processing/train',\n",
    "            destination=f's3://{default_bucket}/lightgbm-pipeline/output/train'\n",
    "        ),\n",
    "        ProcessingOutput(\n",
    "            output_name='validation_data',\n",
    "            source='/opt/ml/processing/validation',\n",
    "            destination=f's3://{default_bucket}/lightgbm-pipeline/output/validation'\n",
    "        ),\n",
    "    ],\n",
    "    code='preprocessing.py',\n",
    "    job_arguments=[\n",
    "        \"--input-bucket\", default_bucket,\n",
    "        \"--input-key\", \"lightgbm-pipeline/input/data.csv\"\n",
    "    ]\n",
    ")"
   ]
  },
  {
   "cell_type": "markdown",
   "id": "af7cb189-5762-45a5-b6eb-17ba26468af6",
   "metadata": {},
   "source": [
    "## Train"
   ]
  },
  {
   "cell_type": "code",
   "execution_count": 30,
   "id": "9844ef59-c441-47d4-99e7-63a2edf21306",
   "metadata": {
    "editable": true,
    "slideshow": {
     "slide_type": ""
    },
    "tags": []
   },
   "outputs": [
    {
     "name": "stderr",
     "output_type": "stream",
     "text": [
      "WARNING:sagemaker:instance_type is a PipelineVariable (<class 'sagemaker.workflow.parameters.ParameterString'>). Its interpreted value in execution time should not be of GPU types since GPU training is not supported for Scikit-Learn.\n",
      "WARNING:sagemaker.workflow.utilities:The input argument instance_type of function (sagemaker.image_uris.retrieve) is a pipeline variable (<class 'sagemaker.workflow.parameters.ParameterString'>), which is interpreted in pipeline execution time only. As the function needs to evaluate the argument value in SDK compile time, the default_value of this Parameter object will be used to override it. Please make sure the default_value is valid.\n"
     ]
    }
   ],
   "source": [
    "# 学習ステップの定義\n",
    "sklearn_estimator = SKLearn(\n",
    "    entry_point='train.py',\n",
    "    role=role,\n",
    "    instance_type=training_instance_type,\n",
    "    instance_count=1,\n",
    "    framework_version='0.23-1',\n",
    "    base_job_name='lightgbm-training',\n",
    "    sagemaker_session=pipeline_session,  # PipelineSessionを使用\n",
    "    hyperparameters={\n",
    "        'n-trials': 50,  # Optunaの試行回数\n",
    "    },\n",
    ")\n",
    "\n",
    "training_step = TrainingStep(\n",
    "    name='Training',\n",
    "    estimator=sklearn_estimator,\n",
    "    inputs={\n",
    "        'train': sagemaker.inputs.TrainingInput(\n",
    "            s3_data=processing_step.properties.ProcessingOutputConfig.Outputs['train_data'].S3Output.S3Uri,\n",
    "            content_type='text/csv'\n",
    "        ),\n",
    "        'validation': sagemaker.inputs.TrainingInput(\n",
    "            s3_data=processing_step.properties.ProcessingOutputConfig.Outputs['validation_data'].S3Output.S3Uri,\n",
    "            content_type='text/csv'\n",
    "        ),\n",
    "    },\n",
    ")"
   ]
  },
  {
   "cell_type": "markdown",
   "id": "aa54b841-2f67-4fdc-88fb-55954bc634c9",
   "metadata": {
    "editable": true,
    "slideshow": {
     "slide_type": ""
    },
    "tags": []
   },
   "source": [
    "## evaluate"
   ]
  },
  {
   "cell_type": "code",
   "execution_count": 31,
   "id": "0e628c14-0fab-45c2-904f-adeb43f076f8",
   "metadata": {
    "editable": true,
    "slideshow": {
     "slide_type": ""
    },
    "tags": []
   },
   "outputs": [],
   "source": [
    "evaluation_processor = ScriptProcessor(\n",
    "    image_uri=script_processor.image_uri,\n",
    "    command=['python3'],\n",
    "    instance_type=processing_instance_type,\n",
    "    instance_count=1,\n",
    "    base_job_name='lightgbm-evaluation',\n",
    "    role=role,\n",
    "    sagemaker_session=pipeline_session  # PipelineSessionを使用\n",
    ")\n",
    "\n",
    "evaluation_report = PropertyFile(\n",
    "    name='EvaluationReport',\n",
    "    output_name='evaluation',\n",
    "    path='evaluation.json',\n",
    ")\n",
    "\n",
    "evaluation_step = ProcessingStep(\n",
    "    name='Evaluation',\n",
    "    processor=evaluation_processor,\n",
    "    inputs=[\n",
    "        ProcessingInput(\n",
    "            source=training_step.properties.ModelArtifacts.S3ModelArtifacts,\n",
    "            destination='/opt/ml/model'\n",
    "        ),\n",
    "        ProcessingInput(\n",
    "            source=processing_step.properties.ProcessingOutputConfig.Outputs['validation_data'].S3Output.S3Uri,\n",
    "            destination='/opt/ml/processing/validation'\n",
    "        ),\n",
    "    ],\n",
    "    outputs=[\n",
    "        ProcessingOutput(\n",
    "            output_name='evaluation',\n",
    "            source='/opt/ml/processing/evaluation',\n",
    "        ),\n",
    "    ],\n",
    "    code='evaluate.py',\n",
    "    property_files=[evaluation_report],\n",
    ")"
   ]
  },
  {
   "cell_type": "code",
   "execution_count": null,
   "id": "91a1dc26-ef7d-469b-ad8b-64d4dbcdf353",
   "metadata": {},
   "outputs": [],
   "source": []
  },
  {
   "cell_type": "code",
   "execution_count": null,
   "id": "8d294da9-cfe1-4a19-9c8c-47ab4a5894c8",
   "metadata": {},
   "outputs": [],
   "source": []
  },
  {
   "cell_type": "markdown",
   "id": "806d0d5b-6970-4382-9a4f-5d0b278bedd2",
   "metadata": {},
   "source": [
    "## pipelineの定義と実行"
   ]
  },
  {
   "cell_type": "code",
   "execution_count": 32,
   "id": "8cc15563-7392-4038-823a-79bd5a56cb79",
   "metadata": {
    "editable": true,
    "slideshow": {
     "slide_type": ""
    },
    "tags": []
   },
   "outputs": [
    {
     "name": "stderr",
     "output_type": "stream",
     "text": [
      "WARNING:sagemaker.workflow.utilities:Popping out 'ProcessingJobName' from the pipeline definition by default since it will be overridden at pipeline execution time. Please utilize the PipelineDefinitionConfig to persist this field in the pipeline definition if desired.\n",
      "WARNING:sagemaker.workflow.utilities:The input argument instance_type of function (sagemaker.image_uris.get_training_image_uri) is a pipeline variable (<class 'sagemaker.workflow.parameters.ParameterString'>), which is interpreted in pipeline execution time only. As the function needs to evaluate the argument value in SDK compile time, the default_value of this Parameter object will be used to override it. Please make sure the default_value is valid.\n",
      "WARNING:sagemaker.workflow.utilities:Popping out 'TrainingJobName' from the pipeline definition by default since it will be overridden at pipeline execution time. Please utilize the PipelineDefinitionConfig to persist this field in the pipeline definition if desired.\n",
      "WARNING:sagemaker.workflow.utilities:Popping out 'ProcessingJobName' from the pipeline definition by default since it will be overridden at pipeline execution time. Please utilize the PipelineDefinitionConfig to persist this field in the pipeline definition if desired.\n",
      "WARNING:sagemaker.workflow.utilities:Popping out 'ProcessingJobName' from the pipeline definition by default since it will be overridden at pipeline execution time. Please utilize the PipelineDefinitionConfig to persist this field in the pipeline definition if desired.\n",
      "WARNING:sagemaker.workflow.utilities:The input argument instance_type of function (sagemaker.image_uris.get_training_image_uri) is a pipeline variable (<class 'sagemaker.workflow.parameters.ParameterString'>), which is interpreted in pipeline execution time only. As the function needs to evaluate the argument value in SDK compile time, the default_value of this Parameter object will be used to override it. Please make sure the default_value is valid.\n",
      "WARNING:sagemaker.workflow.utilities:Popping out 'TrainingJobName' from the pipeline definition by default since it will be overridden at pipeline execution time. Please utilize the PipelineDefinitionConfig to persist this field in the pipeline definition if desired.\n",
      "WARNING:sagemaker.workflow.utilities:Popping out 'ProcessingJobName' from the pipeline definition by default since it will be overridden at pipeline execution time. Please utilize the PipelineDefinitionConfig to persist this field in the pipeline definition if desired.\n"
     ]
    }
   ],
   "source": [
    "# パイプラインの定義\n",
    "pipeline = Pipeline(\n",
    "    name='LightGBM-Pipeline-ModelRegistration',\n",
    "    parameters=[\n",
    "        processing_instance_type,\n",
    "        training_instance_type,\n",
    "        model_approval_status,\n",
    "    ],\n",
    "    steps=[\n",
    "           processing_step, \n",
    "           training_step, \n",
    "           evaluation_step, \n",
    "           # condition_step\n",
    "          ],\n",
    "    sagemaker_session=pipeline_session,  # PipelineSessionを使用\n",
    ")\n",
    "\n",
    "# パイプラインの作成と実行\n",
    "pipeline.upsert(role_arn=role)\n",
    "execution = pipeline.start()"
   ]
  },
  {
   "cell_type": "code",
   "execution_count": null,
   "id": "906069f3-9b27-43d8-88c3-6ab0aecf0b1f",
   "metadata": {
    "editable": true,
    "slideshow": {
     "slide_type": ""
    },
    "tags": []
   },
   "outputs": [],
   "source": []
  }
 ],
 "metadata": {
  "kernelspec": {
   "display_name": "Python 3 (ipykernel)",
   "language": "python",
   "name": "python3"
  },
  "language_info": {
   "codemirror_mode": {
    "name": "ipython",
    "version": 3
   },
   "file_extension": ".py",
   "mimetype": "text/x-python",
   "name": "python",
   "nbconvert_exporter": "python",
   "pygments_lexer": "ipython3",
   "version": "3.10.14"
  }
 },
 "nbformat": 4,
 "nbformat_minor": 5
}
