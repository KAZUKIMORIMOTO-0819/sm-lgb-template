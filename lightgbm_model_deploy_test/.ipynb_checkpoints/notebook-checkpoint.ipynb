{
 "cells": [
  {
   "cell_type": "markdown",
   "id": "8e288195-40db-480e-b692-0e1201eda5cd",
   "metadata": {},
   "source": [
    "# モジュールインポート"
   ]
  },
  {
   "cell_type": "code",
   "execution_count": 1,
   "id": "92504633-0033-452e-bcfc-d98dcb36a2f0",
   "metadata": {},
   "outputs": [
    {
     "name": "stdout",
     "output_type": "stream",
     "text": [
      "sagemaker.config INFO - Not applying SDK defaults from location: /etc/xdg/sagemaker/config.yaml\n",
      "sagemaker.config INFO - Not applying SDK defaults from location: /home/sagemaker-user/.config/sagemaker/config.yaml\n"
     ]
    },
    {
     "name": "stderr",
     "output_type": "stream",
     "text": [
      "/opt/conda/lib/python3.10/site-packages/dask/dataframe/__init__.py:42: FutureWarning: \n",
      "Dask dataframe query planning is disabled because dask-expr is not installed.\n",
      "\n",
      "You can install it with `pip install dask[dataframe]` or `conda install dask`.\n",
      "This will raise in a future version.\n",
      "\n",
      "  warnings.warn(msg, FutureWarning)\n"
     ]
    }
   ],
   "source": [
    "import sagemaker\n",
    "from typing import Final\n",
    "from sagemaker.sklearn import SKLearnModel\n",
    "from sagemaker.async_inference import AsyncInferenceConfig\n",
    "import os, boto3, json, numpy as np\n",
    "from io import BytesIO\n",
    "from time import sleep\n",
    "from uuid import uuid4\n",
    "\n",
    "import pandas as pd\n",
    "import numpy as np\n",
    "import boto3\n",
    "import sagemaker\n",
    "from sagemaker.session import Session\n",
    "from sagemaker.workflow.pipeline import Pipeline\n",
    "from sagemaker.workflow.steps import ProcessingStep, TrainingStep\n",
    "from sagemaker.processing import ScriptProcessor\n",
    "from sagemaker.sklearn.processing import SKLearnProcessor\n",
    "from sagemaker.workflow.pipeline_context import PipelineSession\n",
    "from sagemaker.inputs import TrainingInput\n",
    "from sagemaker.workflow.step_collections import RegisterModel\n",
    "from sagemaker.sklearn.estimator import SKLearn\n",
    "from sagemaker.model_metrics import MetricsSource, ModelMetrics\n",
    "from sagemaker.workflow.parameters import ParameterString\n",
    "\n",
    "from sagemaker.sklearn.processing import SKLearnProcessor\n",
    "from sagemaker.workflow.steps import ProcessingStep\n",
    "from sagemaker.sklearn.estimator import SKLearn\n",
    "from sagemaker.inputs import TrainingInput\n",
    "from sagemaker.processing import ScriptProcessor\n",
    "from sagemaker.workflow.steps import TrainingStep\n",
    "from sagemaker.sklearn.model import SKLearnModel\n",
    "from sagemaker.workflow.functions import Join\n",
    "from sagemaker.workflow.step_collections import RegisterModel\n",
    "\n",
    "from sagemaker.workflow.pipeline import Pipeline\n",
    "\n",
    "from sklearn.datasets import make_classification\n",
    "\n",
    "import os\n",
    "import logging\n",
    "import lightgbm as lgb\n",
    "from sklearn.model_selection import train_test_split\n",
    "# ログの設定\n",
    "logging.basicConfig(level=logging.INFO)\n",
    "logger = logging.getLogger(__name__)"
   ]
  },
  {
   "cell_type": "markdown",
   "id": "951aefe9-ddb5-4aa7-be77-87fd13ca9f76",
   "metadata": {},
   "source": [
    "# 事前設定"
   ]
  },
  {
   "cell_type": "markdown",
   "id": "d1cbd7cf-6aa7-471a-9294-0177c7cc117f",
   "metadata": {},
   "source": [
    "## sagemaker各種設定"
   ]
  },
  {
   "cell_type": "code",
   "execution_count": 2,
   "id": "a8f86638-78ae-4bc8-87c4-9c43b3b2dfdc",
   "metadata": {},
   "outputs": [],
   "source": [
    "smr_client:Final = boto3.client('sagemaker-runtime')\n",
    "sm_client:Final = boto3.client('sagemaker')\n",
    "s3_client:Final = boto3.client('s3')\n",
    "endpoint_inservice_waiter:Final = sm_client.get_waiter('endpoint_in_service')\n",
    "role: Final[str] = sagemaker.get_execution_role()\n",
    "region: Final[str] = sagemaker.Session().boto_region_name\n",
    "bucket: Final[str] = sagemaker.Session().default_bucket()\n",
    "session = sagemaker.Session()\n",
    "s3_prefix = 'lightgbm-model-deploy'"
   ]
  },
  {
   "cell_type": "markdown",
   "id": "397474a7-2707-4734-8aa4-013ee179d915",
   "metadata": {},
   "source": [
    "## ディレクトリ作成"
   ]
  },
  {
   "cell_type": "code",
   "execution_count": 3,
   "id": "0e92d44d-bda3-4311-b82e-dbd369b0c3e1",
   "metadata": {},
   "outputs": [],
   "source": [
    "model_dir: Final[str] = 'model'\n",
    "!if [ -d ./{model_dir} ]; then rm -rf ./{model_dir}/;fi\n",
    "!mkdir ./{model_dir}/\n",
    "\n",
    "source_dir: Final[str] = 'source'\n",
    "!if [ -d ./{source_dir} ]; then rm -rf ./{source_dir}/;fi\n",
    "!mkdir ./{source_dir}/"
   ]
  },
  {
   "cell_type": "markdown",
   "id": "727b2d83-af89-498b-8b28-7fba07b8106e",
   "metadata": {},
   "source": [
    "## サンプルデータの作成"
   ]
  },
  {
   "cell_type": "code",
   "execution_count": 4,
   "id": "7003f6e4-4cd5-4fe2-88ae-83e5524a12ff",
   "metadata": {},
   "outputs": [
    {
     "name": "stderr",
     "output_type": "stream",
     "text": [
      "INFO:__main__:サンプルデータを生成しています。\n",
      "INFO:__main__:サンプルデータを data.csv に保存しました。\n"
     ]
    }
   ],
   "source": [
    "logger.info(\"サンプルデータを生成しています。\")\n",
    "# サンプルデータの生成\n",
    "X, y = make_classification(n_samples=1000, n_features=20, n_classes=2, random_state=42)\n",
    "data = pd.DataFrame(X)\n",
    "data['label'] = y\n",
    "\n",
    "# データの保存\n",
    "data_file = 'data.csv'\n",
    "data.to_csv(data_file, index=False)\n",
    "logger.info(f\"サンプルデータを {data_file} に保存しました。\")"
   ]
  },
  {
   "cell_type": "markdown",
   "id": "788e2e75-8a18-4866-928b-80b21d61307e",
   "metadata": {},
   "source": [
    "## データをS3にアップロード"
   ]
  },
  {
   "cell_type": "code",
   "execution_count": 5,
   "id": "2e94c7c6-a2b5-434c-92ee-98435d1eaea3",
   "metadata": {},
   "outputs": [
    {
     "name": "stderr",
     "output_type": "stream",
     "text": [
      "INFO:__main__:データをS3にアップロードしています。\n",
      "INFO:__main__:データが s3://sagemaker-ap-northeast-1-706711397653/lightgbm-model-deploy/data/data.csv にアップロードされました。\n"
     ]
    }
   ],
   "source": [
    "# データをS3にアップロード\n",
    "logger.info(\"データをS3にアップロードしています。\")\n",
    "s3_uri = session.upload_data(path=data_file, \n",
    "                             bucket=bucket, \n",
    "                             key_prefix=f'{s3_prefix}/data')\n",
    "logger.info(f\"データが {s3_uri} にアップロードされました。\")"
   ]
  },
  {
   "cell_type": "markdown",
   "id": "d3fdfff1-1c8e-4372-981a-dbfbe55bdc1b",
   "metadata": {},
   "source": [
    "# モデルの訓練"
   ]
  },
  {
   "cell_type": "markdown",
   "id": "cbddbb24-9751-4b7e-a83c-8fab8001bb2e",
   "metadata": {},
   "source": [
    "## 訓練/テスト"
   ]
  },
  {
   "cell_type": "code",
   "execution_count": 6,
   "id": "fd4174e0-d9ed-49f4-9135-36ae74cf21a6",
   "metadata": {},
   "outputs": [],
   "source": [
    "train, test = train_test_split(data, test_size=0.2, random_state=42)"
   ]
  },
  {
   "cell_type": "markdown",
   "id": "a44cdbb4-908a-48d7-967d-158cbd10c00e",
   "metadata": {},
   "source": [
    "## 訓練"
   ]
  },
  {
   "cell_type": "code",
   "execution_count": 7,
   "id": "ed564c12-42fc-4752-ae21-00ed8eb07e29",
   "metadata": {},
   "outputs": [
    {
     "name": "stderr",
     "output_type": "stream",
     "text": [
      "INFO:__main__:LightGBMモデルを訓練しています。\n"
     ]
    }
   ],
   "source": [
    "X_train = train.drop('label', axis=1)\n",
    "y_train = train['label']\n",
    "\n",
    "logger.info('LightGBMモデルを訓練しています。')\n",
    "train_dataset = lgb.Dataset(X_train, \n",
    "                            label=y_train)\n",
    "params = {\n",
    "    'objective': 'binary',\n",
    "    'metric': 'binary_logloss',\n",
    "    'verbosity': -1\n",
    "}\n",
    "model = lgb.train(params, train_dataset)"
   ]
  },
  {
   "cell_type": "markdown",
   "id": "c8dfbf27-df04-4012-bbc6-414e7431f67e",
   "metadata": {},
   "source": [
    "## modelの保存"
   ]
  },
  {
   "cell_type": "code",
   "execution_count": 8,
   "id": "897d6c04-0d5f-4d56-ae7c-50412c38f4e2",
   "metadata": {},
   "outputs": [
    {
     "data": {
      "text/plain": [
       "<lightgbm.basic.Booster at 0x7f068e8df190>"
      ]
     },
     "execution_count": 8,
     "metadata": {},
     "output_type": "execute_result"
    }
   ],
   "source": [
    "model.save_model('model/model.txt')"
   ]
  },
  {
   "cell_type": "markdown",
   "id": "da1935b1-db0d-4bb5-a784-1e6ceb6e2d05",
   "metadata": {},
   "source": [
    "## model.txtを圧縮"
   ]
  },
  {
   "cell_type": "code",
   "execution_count": 9,
   "id": "bda27c0b-071b-4672-9347-50f7164c77f2",
   "metadata": {},
   "outputs": [
    {
     "name": "stdout",
     "output_type": "stream",
     "text": [
      "/home/sagemaker-user/lightgbm_model_deploy_test/model\n",
      "./model.txt\n",
      "/home/sagemaker-user/lightgbm_model_deploy_test\n"
     ]
    }
   ],
   "source": [
    "%cd {model_dir}\n",
    "!tar zcvf model.tar.gz ./*\n",
    "%cd .."
   ]
  },
  {
   "cell_type": "markdown",
   "id": "6429002d-e11e-4f9f-97fc-1e4ca40de6d6",
   "metadata": {},
   "source": [
    "## modelをS3にアップロード"
   ]
  },
  {
   "cell_type": "code",
   "execution_count": 10,
   "id": "4efaf11f-6544-47aa-b4d8-9d4eb3d9cd23",
   "metadata": {},
   "outputs": [
    {
     "name": "stdout",
     "output_type": "stream",
     "text": [
      "s3://sagemaker-ap-northeast-1-706711397653/lightgbm-model-deploy/model.tar.gz\n"
     ]
    }
   ],
   "source": [
    "model_s3_uri:Final[str] = sagemaker.session.Session().upload_data(\n",
    "    f'./{model_dir}/model.tar.gz',\n",
    "    key_prefix = f'{s3_prefix}'\n",
    ")\n",
    "print(model_s3_uri)"
   ]
  },
  {
   "cell_type": "markdown",
   "id": "c004b6d5-0cb8-486c-9f17-db850e87ddc6",
   "metadata": {},
   "source": [
    "# モデルデプロイ"
   ]
  },
  {
   "cell_type": "code",
   "execution_count": 19,
   "id": "ab70bf78-feae-461a-bd65-2f1c5dcbe4e8",
   "metadata": {},
   "outputs": [
    {
     "name": "stderr",
     "output_type": "stream",
     "text": [
      "INFO:sagemaker:Repacking model artifact (s3://sagemaker-ap-northeast-1-706711397653/lightgbm-model-deploy/model.tar.gz), script artifact (source_dir), and dependencies ([]) into single tar.gz file located at s3://sagemaker-ap-northeast-1-706711397653/pytorch-inference-2024-09-22-15-11-57-525/model.tar.gz. This may take some time depending on model size...\n",
      "INFO:sagemaker:Creating model with name: pytorch-inference-2024-09-22-15-11-58-472\n",
      "INFO:sagemaker:Creating endpoint-config with name lightgbm-endpoint-ver6\n",
      "INFO:sagemaker:Creating endpoint with name lightgbm-endpoint-ver6\n"
     ]
    },
    {
     "name": "stdout",
     "output_type": "stream",
     "text": [
      "------!"
     ]
    }
   ],
   "source": [
    "from sagemaker.model import Model\n",
    "from sagemaker import Session\n",
    "from sagemaker import get_execution_role\n",
    "from sagemaker.image_uris import retrieve\n",
    "\n",
    "# SageMakerセッションとIAMロールの設定\n",
    "session = Session()\n",
    "role = get_execution_role()\n",
    "\n",
    "# LightGBM用のコンテナURIを取得\n",
    "# container = retrieve(framework=\"sagemaker-data-science-311-v1\",  # 'lightgbm'が直接サポートされていない場合\n",
    "#                     region=session.boto_region_name,\n",
    "#                     version='3.9')\n",
    "container = retrieve(\n",
    "    framework=\"pytorch\",\n",
    "    region=session.boto_region_name,\n",
    "    version=\"2.1\",\n",
    "    py_version=\"py310\",\n",
    "    image_scope=\"inference\",\n",
    "    instance_type=\"ml.m5.large\",\n",
    ")\n",
    "\n",
    "\n",
    "# Modelオブジェクトの作成\n",
    "model = Model(\n",
    "    model_data=model_s3_uri,\n",
    "    role=role,\n",
    "    entry_point='inference.py',\n",
    "    source_dir='source_dir',  # inference.pyとrequirements.txtが含まれるディレクトリ\n",
    "    image_uri=container,\n",
    "    sagemaker_session=session\n",
    ")\n",
    "\n",
    "# エンドポイントのデプロイ\n",
    "predictor = model.deploy(\n",
    "    initial_instance_count=1,\n",
    "    instance_type='ml.m5.xlarge',\n",
    "    endpoint_name='lightgbm-endpoint-ver6'\n",
    ")"
   ]
  },
  {
   "cell_type": "markdown",
   "id": "48e4c72e-025e-4b9d-adfe-4165b8f0fb26",
   "metadata": {},
   "source": [
    "# 推論の実行"
   ]
  },
  {
   "cell_type": "code",
   "execution_count": 57,
   "id": "a52d8afa-d814-48c2-a5ae-16f8d1b196e7",
   "metadata": {},
   "outputs": [
    {
     "name": "stdout",
     "output_type": "stream",
     "text": [
      "[0.0016653716138723706]\n"
     ]
    }
   ],
   "source": [
    "import json\n",
    "import sagemaker\n",
    "from sagemaker.predictor import Predictor\n",
    "from sagemaker.serializers import JSONSerializer\n",
    "from sagemaker.deserializers import JSONDeserializer\n",
    "\n",
    "# SageMakerセッションの初期化\n",
    "session = sagemaker.Session()\n",
    "\n",
    "# エンドポイント名を指定\n",
    "endpoint_name = 'lightgbm-endpoint-ver6'  # 実際のエンドポイント名に置き換えてください\n",
    "\n",
    "# Predictorオブジェクトの作成\n",
    "predictor = Predictor(\n",
    "    endpoint_name=endpoint_name,\n",
    "    sagemaker_session=session,\n",
    "    serializer=JSONSerializer(),      # 入力データのシリアライズ方法\n",
    "    deserializer=JSONDeserializer()   # 出力データのデシリアライズ方法\n",
    ")\n",
    "\n",
    "# 入力データの準備\n",
    "input_data = {\n",
    "    \"data\": [\n",
    "        [ 0.09337237,  0.78584826,  0.10575379,  1.2723535 , -0.84631598,\n",
    "       -0.97909326,  1.26370668,  0.26402008,  2.41167668, -0.9600463 ,\n",
    "        0.54347938,  0.19981043,  0.28872366,  0.7324921 , -0.87200205,\n",
    "       -1.65488744, -1.13020372,-0.12270893,0.6934308,0.91136272] # 実際の特徴量に置き換えてください\n",
    "    ]\n",
    "}\n",
    "\n",
    "# 推論の実行\n",
    "response = predictor.predict(input_data)\n",
    "\n",
    "# 結果の表示\n",
    "print(response['predictions'])\n"
   ]
  },
  {
   "cell_type": "code",
   "execution_count": null,
   "id": "d363b50c-6b0b-4e48-8b08-59d222adc5fd",
   "metadata": {},
   "outputs": [],
   "source": []
  }
 ],
 "metadata": {
  "kernelspec": {
   "display_name": "Python 3 (ipykernel)",
   "language": "python",
   "name": "python3"
  },
  "language_info": {
   "codemirror_mode": {
    "name": "ipython",
    "version": 3
   },
   "file_extension": ".py",
   "mimetype": "text/x-python",
   "name": "python",
   "nbconvert_exporter": "python",
   "pygments_lexer": "ipython3",
   "version": "3.10.14"
  }
 },
 "nbformat": 4,
 "nbformat_minor": 5
}
